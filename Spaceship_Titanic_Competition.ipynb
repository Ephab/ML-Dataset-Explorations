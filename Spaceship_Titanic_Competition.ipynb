{
  "nbformat": 4,
  "nbformat_minor": 0,
  "metadata": {
    "colab": {
      "provenance": [],
      "authorship_tag": "ABX9TyN+OmFbXKM7EUbw5/Hm3f2J"
    },
    "kernelspec": {
      "name": "python3",
      "display_name": "Python 3"
    },
    "language_info": {
      "name": "python"
    }
  },
  "cells": [
    {
      "cell_type": "code",
      "execution_count": null,
      "metadata": {
        "id": "bnq_JAgJg4ds"
      },
      "outputs": [],
      "source": [
        "\"\"\"\n",
        "This is random dataset from a Kaggle competition called the \"Spaceship Titanic Dataset\"\n",
        "\n",
        "Link to kaggle competition -> https://www.kaggle.com/competitions/spaceship-titanic/overview\n",
        "\n",
        "Most submissions had an accuracy < 83% except for 2 outliers.\n",
        "\n",
        "In this notebook, i test a wide variety of model architectures using sklearn\n",
        "\n",
        "note: this notebook was written in Kaggle thus you must change the directories and import the dataset before running it.\n",
        "\"\"\""
      ]
    },
    {
      "cell_type": "code",
      "source": [
        "import numpy as np # linear algebra\n",
        "import pandas as pd # data processing\n",
        "from sklearn.model_selection import train_test_split\n",
        "import warnings\n",
        "warnings.filterwarnings('ignore')\n",
        "import seaborn as sns\n",
        "import matplotlib.pyplot as plt\n",
        "%matplotlib inline\n",
        "\n",
        "import os\n",
        "for dirname, _, filenames in os.walk('/kaggle/input'):\n",
        "    for filename in filenames:\n",
        "        print(os.path.join(dirname, filename))"
      ],
      "metadata": {
        "id": "kVXQboqAhgEh"
      },
      "execution_count": null,
      "outputs": []
    },
    {
      "cell_type": "code",
      "source": [
        "training = pd.read_csv(\"/kaggle/input/spaceship-titanic/train.csv\")\n",
        "test = pd.read_csv(\"/kaggle/input/spaceship-titanic/test.csv\")\n",
        "test_original = pd.read_csv(\"/kaggle/input/spaceship-titanic/test.csv\")"
      ],
      "metadata": {
        "id": "p8gCwhmJhpP0"
      },
      "execution_count": null,
      "outputs": []
    },
    {
      "cell_type": "code",
      "source": [
        "numeric_features = training[test.select_dtypes(include=[\"number\"]).columns]\n",
        "categorical_features = training[test.select_dtypes(exclude=[\"number\"]).columns].drop(['PassengerId', 'Name'], axis=1)\n",
        "label = training[\"Transported\"]\n",
        "\n",
        "\n",
        "cabin_split = categorical_features['Cabin'].str.split('/', expand=True)\n",
        "categorical_features['Deck'] = cabin_split[0]\n",
        "categorical_features['Cabin_num'] = cabin_split[1]\n",
        "categorical_features['Side'] = cabin_split[2]\n",
        "\n",
        "categorical_features.drop('Cabin',axis=1, inplace=True)\n",
        "\n",
        "dummies = pd.get_dummies(categorical_features[['HomePlanet', 'Destination', 'Deck', 'Side']])\n",
        "categorical_features.drop(['HomePlanet', 'Destination', 'Deck', 'Side'], axis=1, inplace=True)\n",
        "categorical_features = pd.concat([categorical_features, dummies], axis=1)\n",
        "features = pd.concat([numeric_features, categorical_features], axis=1)\n",
        "\n",
        "\n",
        "#filling nulls\n",
        "for i in ['Age', 'FoodCourt', 'ShoppingMall','RoomService', 'Spa', 'VRDeck']:\n",
        "    features[i].fillna(features[i].median(), inplace=True)\n",
        "\n",
        "for j in ['CryoSleep', 'VIP', 'Cabin_num']:\n",
        "    features[j] = features[j].replace({\"False\": False, \"True\": True})\n",
        "    features[j] = features[j].astype(bool)\n",
        "    features[j].fillna(features[j].mode(), inplace=True)\n",
        "\n",
        "features[\"Total\"] = features[[\"RoomService\", \"FoodCourt\", \"ShoppingMall\", \"Spa\", \"VRDeck\"]].sum(axis=1)\n",
        "\n",
        "spending_cols = [\"RoomService\", \"FoodCourt\", \"ShoppingMall\", \"Spa\", \"VRDeck\"]\n",
        "\n",
        "for col in spending_cols:\n",
        "    features['% of ' + str(col)] = (features[col] / (features['Total']+ 1e-7))\n",
        "\n",
        "\n",
        "#log transform\n",
        "to_log = [\"RoomService\", \"FoodCourt\", \"ShoppingMall\", \"Spa\", \"VRDeck\", \"Total\"]\n",
        "for f in to_log:\n",
        "    features[\"log_\"+f] = np.log1p(features[f])\n",
        "\n",
        "\n",
        "features_copy= features.copy()\n",
        "label_copy = label.copy()\n",
        "\n",
        "X_train, X_test, y_train, y_test = train_test_split(features, label, random_state=42)\n",
        "print(features.head())"
      ],
      "metadata": {
        "id": "b7xBJaRPhsqR"
      },
      "execution_count": null,
      "outputs": []
    },
    {
      "cell_type": "code",
      "source": [
        "#normalize\n",
        "num_columns = X_train.select_dtypes(include=['number']).columns\n",
        "num_columns = [col for col in num_columns if not col.startswith(\"% of\")]\n",
        "\n",
        "from sklearn.preprocessing import StandardScaler\n",
        "print(len(X_train.columns), len(X_test.columns))\n",
        "scaler = StandardScaler().fit(X_train[num_columns])\n",
        "\n",
        "\n",
        "X_train[num_columns] = scaler.transform(X_train[num_columns])\n",
        "X_test[num_columns] = scaler.transform(X_test[num_columns])\n",
        "\n",
        "X_train.head()"
      ],
      "metadata": {
        "id": "H0RAf7KihuJ3"
      },
      "execution_count": null,
      "outputs": []
    },
    {
      "cell_type": "code",
      "source": [
        "models = {}\n",
        "\n",
        "from sklearn.linear_model import LogisticRegression\n",
        "\n",
        "lr = LogisticRegression(max_iter=1000, C=3).fit(X_train, y_train)\n",
        "models[\"lr\"] = lr\n",
        "\n",
        "\n",
        "from sklearn.linear_model import RidgeClassifier\n",
        "\n",
        "rr = RidgeClassifier().fit(X_train, y_train)\n",
        "models['rr'] = rr\n",
        "\n",
        "\n",
        "from sklearn.tree import DecisionTreeClassifier\n",
        "\n",
        "dt = DecisionTreeClassifier(max_depth=4).fit(X_train, y_train)\n",
        "models['dt'] = dt\n",
        "\n",
        "\n",
        "from sklearn.ensemble import RandomForestClassifier\n",
        "\n",
        "rf = RandomForestClassifier(n_estimators=401, max_depth=7, min_samples_split=2).fit(X_train, y_train)\n",
        "models['rf'] = rf\n",
        "\n",
        "\n",
        "from xgboost import XGBClassifier\n",
        "\n",
        "xgb = XGBClassifier(alpha=10).fit(X_train, y_train)\n",
        "models['xgb'] = xgb\n",
        "\n",
        "\n",
        "from sklearn.neural_network import MLPClassifier\n",
        "\n",
        "mlp = MLPClassifier(alpha=0.08254041852680192,\n",
        "                    hidden_layer_sizes=(200, 100),\n",
        "                    max_iter=2000,\n",
        "                    early_stopping=False,\n",
        "                    learning_rate='adaptive',\n",
        "                    learning_rate_init=0.0001,\n",
        "                    activation='tanh').fit(X_train, y_train)\n",
        "models['mlp'] = mlp\n",
        "\n",
        "from sklearn.ensemble import GradientBoostingClassifier\n",
        "\n",
        "gb = GradientBoostingClassifier().fit(X_train, y_train)\n",
        "models['gb'] = gb"
      ],
      "metadata": {
        "id": "eeUmELIahv_z"
      },
      "execution_count": null,
      "outputs": []
    },
    {
      "cell_type": "code",
      "source": [
        "mlp2 = MLPClassifier(alpha=0.01,\n",
        "                    hidden_layer_sizes=(60, 60, 35, 35, 20, 15),\n",
        "                    max_iter=10000,\n",
        "                    early_stopping=True,\n",
        "                    learning_rate='adaptive',\n",
        "                    learning_rate_init=0.0024,\n",
        "                    activation='relu').fit(X_train, y_train)\n",
        "\n",
        "mlp2.score(X_train, y_train), mlp2.score(X_test, y_test)"
      ],
      "metadata": {
        "id": "DX_DGg8wh2RY"
      },
      "execution_count": null,
      "outputs": []
    },
    {
      "cell_type": "code",
      "source": [
        "plt.figure(figsize=(8,5))\n",
        "plt.plot(mlp2.loss_curve_)\n",
        "plt.title(\"MLP Loss Curve During Training\")\n",
        "plt.xlabel(\"Iterations\")\n",
        "plt.ylabel(\"Loss\")\n",
        "plt.grid(True)\n",
        "plt.show()"
      ],
      "metadata": {
        "id": "vD3dNO72h6Rr"
      },
      "execution_count": null,
      "outputs": []
    },
    {
      "cell_type": "code",
      "source": [
        "#scores\n",
        "\n",
        "for model in list(models.keys()):\n",
        "    print(\"Test Score: \" + model + \" score: \" + str(models[model].score(X_test, y_test)))\n",
        "    print(\"Training Score: \" + model + \" score: \" + str(models[model].score(X_train, y_train)) + \"\\n\")"
      ],
      "metadata": {
        "id": "GJCK6phuiEHo"
      },
      "execution_count": null,
      "outputs": []
    },
    {
      "cell_type": "code",
      "source": [
        "#tuning\n",
        "from sklearn.model_selection import RandomizedSearchCV\n",
        "\n",
        "grid_pararms_rf = {'max_depth':np.arange(1, 10),\n",
        "                  'n_estimators': np.arange(50, 401, 50),\n",
        "                  'min_samples_split': np.arange(2, 10),\n",
        "                  'warm_start': [True, False]}\n",
        "rs_rf = RandomizedSearchCV(estimator=rf,param_distributions=grid_pararms_rf, scoring='accuracy', n_jobs=-1,n_iter=100).fit(X_train,y_train)\n"
      ],
      "metadata": {
        "id": "yHj7OruFiF8j"
      },
      "execution_count": null,
      "outputs": []
    },
    {
      "cell_type": "code",
      "source": [
        "print(rs_rf.best_score_, rs_rf.best_params_)\n",
        "print(\"\\n\")\n",
        "\n",
        "l = []\n",
        "for i  in zip(features.columns,rf.feature_importances_):\n",
        "    l.append(i)\n",
        "print(sorted(l, key=lambda x: x[1], reverse=True))"
      ],
      "metadata": {
        "id": "t-PRJvAXiIBn"
      },
      "execution_count": null,
      "outputs": []
    },
    {
      "cell_type": "code",
      "source": [
        "params_mlp = {'alpha':np.logspace(-4,1, 25),\n",
        "            'learning_rate_init': np.logspace(-4, 0, 10),\n",
        "            'hidden_layer_sizes': [(50,), (100,), (200,),\n",
        "                                   (50, 50), (100, 50), (200, 100),\n",
        "                                   (100, 50, 25), (200, 100, 50),\n",
        "                                  (50, 75, 100, 125),(50,75,100,125,150)],\n",
        "            'max_iter': np.arange(1000, 4000, 1000),\n",
        "            'early_stopping':[True, False],\n",
        "            'activation': ['relu', 'tanh', 'logistic'],\n",
        "            'learning_rate': ['constant', 'invscaling', 'adaptive']}\n",
        "\n",
        "rs_mlp = RandomizedSearchCV(estimator=mlp,param_distributions=params_mlp, scoring='accuracy', n_jobs=-1, n_iter=100).fit(X_train,y_train)"
      ],
      "metadata": {
        "id": "cXPPjqDAiK3H"
      },
      "execution_count": null,
      "outputs": []
    },
    {
      "cell_type": "code",
      "source": [
        "rs_mlp.best_score_, rs_mlp.best_params_"
      ],
      "metadata": {
        "id": "AMFDffySiL2J"
      },
      "execution_count": null,
      "outputs": []
    },
    {
      "cell_type": "code",
      "source": [
        "#XGBoost\n",
        "\n",
        "params_xgb = {'n_estimators': np.arange(2, 403, 20),\n",
        "             'max_depth': np.arange(2, 13, 1),\n",
        "             'learning_rate': np.logspace(-4,1),\n",
        "             }\n",
        "rs_xgb = RandomizedSearchCV(estimator=xgb, param_distributions=params_xgb, scoring='accuracy', n_jobs=-1, n_iter=100).fit(X_train, y_train)"
      ],
      "metadata": {
        "id": "mpn_9Nm8iN5a"
      },
      "execution_count": null,
      "outputs": []
    },
    {
      "cell_type": "code",
      "source": [
        "rs_xgb.best_score_, rs_xgb.best_params_"
      ],
      "metadata": {
        "id": "PZ2kqpeGiOrZ"
      },
      "execution_count": null,
      "outputs": []
    },
    {
      "cell_type": "markdown",
      "source": [
        "#Best scores so far:\n",
        "\n",
        "RF:\n",
        "\n",
        "0.8048790191582427 {'warm_start': True, 'n_estimators': 250, 'min_samples_split': 5, 'max_depth': 9}\n",
        "\n",
        "\n",
        "MLP:\n",
        "\n",
        "(0.8081001134710366, {'max_iter': 2000, 'learning_rate_init': 0.000774263682681127, 'learning_rate': 'constant', 'hidden_layer_sizes': (200, 100), 'early_stopping': True, 'alpha': 0.004641588833612782, 'activation': 'relu'})\n",
        "\n",
        "\n",
        "XGB: (0.8050319225571945, {'n_estimators': 202, 'max_depth': 4, 'learning_rate': 0.07196856730011521})"
      ],
      "metadata": {
        "id": "su8ZDHa8iWhw"
      }
    },
    {
      "cell_type": "markdown",
      "source": [
        "On the test dataset, the mlp model achieved a score of 0.80243\n",
        "![](data:image/jpeg;base64,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)"
      ],
      "metadata": {
        "id": "QCBm11Urjkw4"
      }
    }
  ]
}